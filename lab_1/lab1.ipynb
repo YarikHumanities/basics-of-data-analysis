{
 "cells": [
  {
   "cell_type": "code",
   "execution_count": 1,
   "metadata": {},
   "outputs": [],
   "source": [
    "import numpy as np\n",
    "import pandas as pd"
   ]
  },
  {
   "cell_type": "markdown",
   "metadata": {},
   "source": [
    "Numpy one- and multi dimensional array creation"
   ]
  },
  {
   "cell_type": "code",
   "execution_count": 2,
   "metadata": {},
   "outputs": [
    {
     "name": "stdout",
     "output_type": "stream",
     "text": [
      "[1 2 3 4]\n",
      "[1. 2. 3. 4.]\n",
      "[1 1 1]\n",
      "[[0. 0. 0. 0.]\n",
      " [0. 0. 0. 0.]]\n",
      "[0.   1.25 2.5  3.75 5.  ]\n",
      "[[0.89407236 0.40939276 0.96911824]\n",
      " [0.43702648 0.87551847 0.09368388]\n",
      " [0.0075723  0.57279908 0.14244001]\n",
      " [0.72143008 0.87211726 0.7719924 ]]\n",
      "[[58 28 12 50]\n",
      " [41 41 50 15]\n",
      " [43 58 49 76]\n",
      " [29 63  1  9]]\n",
      "[[ 1  2  4  5]\n",
      " [ 5  6  7  8]\n",
      " [ 9 10 11 12]]\n"
     ]
    }
   ],
   "source": [
    "a = np.array([1,2,3,4])\n",
    "print(a)\n",
    "\n",
    "a1 = np.array([1,2,3,4], dtype=\"float\")\n",
    "print(a1)\n",
    "\n",
    "a2=np.ones(3, dtype=int)\n",
    "print(a2)\n",
    "\n",
    "a3=np.zeros((2, 4), dtype=float)\n",
    "print(a3)\n",
    "\n",
    "a4=np.linspace(0, 5, 5)\n",
    "print(a4)\n",
    "\n",
    "a5=np.random.random((4, 3))\n",
    "print(a5)\n",
    "\n",
    "a6=np.random.randint(0, 100, (4, 4))\n",
    "print(a6)\n",
    "\n",
    "b=np.array([[1,2,4,5], [5,6,7,8], [9,10,11,12]])\n",
    "print(b)\n"
   ]
  },
  {
   "cell_type": "markdown",
   "metadata": {},
   "source": [
    "Indexes"
   ]
  },
  {
   "cell_type": "code",
   "execution_count": 3,
   "metadata": {},
   "outputs": [
    {
     "name": "stdout",
     "output_type": "stream",
     "text": [
      "1.0\n",
      "4.0\n",
      "3.0\n",
      "[58 28 12 50]\n",
      "58\n"
     ]
    }
   ],
   "source": [
    "print(a1[0])\n",
    "\n",
    "print(a1[-1])\n",
    "print(a1[-2])\n",
    "\n",
    "print(a6[0])\n",
    "print(a6[0][0])"
   ]
  },
  {
   "cell_type": "markdown",
   "metadata": {},
   "source": [
    "Selections"
   ]
  },
  {
   "cell_type": "code",
   "execution_count": 4,
   "metadata": {},
   "outputs": [
    {
     "name": "stdout",
     "output_type": "stream",
     "text": [
      "[21 56 24 11 64 14 29 51 82 26]\n",
      "[21 56 24 11 64]\n",
      "[  21   56 1000   11   64   14   29   51   82   26]\n",
      "[  21   56 1000   11   64]\n"
     ]
    }
   ],
   "source": [
    "\n",
    "array=np.random.randint(0, 100, 10)\n",
    "print(array)\n",
    "selected_array=array[0:5:1]\n",
    "print(selected_array)\n",
    "\n",
    "array[2]=1000\n",
    "print(array)\n",
    "print(selected_array)\n",
    "\n"
   ]
  },
  {
   "cell_type": "code",
   "execution_count": 5,
   "metadata": {},
   "outputs": [
    {
     "name": "stdout",
     "output_type": "stream",
     "text": [
      "[[81  0 26 78]\n",
      " [28 47  6 18]\n",
      " [81 14  9 85]\n",
      " [63 59 69 49]]\n",
      "[[81  0]\n",
      " [28 47]]\n"
     ]
    }
   ],
   "source": [
    "array_matrix=np.random.randint(0, 100, (4, 4))\n",
    "print(array_matrix)\n",
    "\n",
    "selected_matrix=array_matrix[0:2, 0:2]\n",
    "print(selected_matrix)"
   ]
  },
  {
   "cell_type": "markdown",
   "metadata": {},
   "source": [
    "Arithmetic operations"
   ]
  },
  {
   "cell_type": "code",
   "execution_count": 6,
   "metadata": {},
   "outputs": [
    {
     "name": "stdout",
     "output_type": "stream",
     "text": [
      "[90 17 17 42 65 17 14 81 62 88 94  6  4 47 25 19]\n",
      "[180  34  34  84 130  34  28 162 124 176 188  12   8  94  50  38]\n",
      "[183  37  37  87 133  37  31 165 127 179 191  15  11  97  53  41]\n",
      "[91 18 18 43 66 18 15 82 63 89 95  7  5 48 26 20]\n"
     ]
    }
   ],
   "source": [
    "operated_array=np.random.randint(0, 100, 16)\n",
    "print(operated_array)\n",
    "\n",
    "operated_array=operated_array*2\n",
    "print(operated_array)\n",
    "\n",
    "operated_array=operated_array+3\n",
    "print(operated_array)\n",
    "\n",
    "operated_array=operated_array//2\n",
    "print(operated_array)\n"
   ]
  },
  {
   "cell_type": "markdown",
   "metadata": {},
   "source": [
    "Reduce etc."
   ]
  },
  {
   "cell_type": "code",
   "execution_count": 7,
   "metadata": {},
   "outputs": [
    {
     "name": "stdout",
     "output_type": "stream",
     "text": [
      "[0 1 2 3 4 5]\n",
      "15\n",
      "[ 0  1  3  6 10 15]\n"
     ]
    },
    {
     "data": {
      "text/plain": [
       "array([['a', 'aa', 'aaa'],\n",
       "       ['b', 'bb', 'bbb'],\n",
       "       ['c', 'cc', 'ccc']], dtype=object)"
      ]
     },
     "execution_count": 7,
     "metadata": {},
     "output_type": "execute_result"
    }
   ],
   "source": [
    "a10 = np.arange(0, 6)\n",
    "print(a10)\n",
    "\n",
    "print(np.add.reduce(a10))\n",
    "#bollean_array = [True, True, True, True, True]\n",
    "print(np.add.accumulate(a10))\n",
    "\n",
    "x = np.array(['a', 'b', 'c'], dtype=object)\n",
    "np.outer(x, [1, 2, 3])\n"
   ]
  },
  {
   "cell_type": "markdown",
   "metadata": {},
   "source": [
    "Data from .csv file"
   ]
  },
  {
   "cell_type": "code",
   "execution_count": 8,
   "metadata": {},
   "outputs": [
    {
     "name": "stdout",
     "output_type": "stream",
     "text": [
      "Sum:  563.8\n",
      "Min:  1.0\n",
      "Max:  6.9\n",
      "Average:  3.758666666666666\n",
      "Standart Deviation:  1.7585291834055212\n",
      "Dispesion:  3.092424888888889\n",
      "Mediana:  4.35\n",
      "Percentile:  4.35\n"
     ]
    }
   ],
   "source": [
    "data = pd.read_csv('iris.csv')\n",
    "petal = np.array(data['petal_length'])\n",
    "\n",
    "print(\"Sum: \", np.sum(petal))\n",
    "print(\"Min: \", np.min(petal))\n",
    "print(\"Max: \", np.max(petal))\n",
    "print(\"Average: \", np.mean(petal))\n",
    "print(\"Standart Deviation: \", np.std(petal))\n",
    "print(\"Dispesion: \", np.var(petal))\n",
    "print(\"Mediana: \", np.median(petal))\n",
    "print(\"Percentile: \", np.percentile(petal, 50))"
   ]
  }
 ],
 "metadata": {
  "kernelspec": {
   "display_name": "Python 3.9.7 64-bit",
   "language": "python",
   "name": "python3"
  },
  "language_info": {
   "codemirror_mode": {
    "name": "ipython",
    "version": 3
   },
   "file_extension": ".py",
   "mimetype": "text/x-python",
   "name": "python",
   "nbconvert_exporter": "python",
   "pygments_lexer": "ipython3",
   "version": "3.9.7"
  },
  "orig_nbformat": 4,
  "vscode": {
   "interpreter": {
    "hash": "81794d4967e6c3204c66dcd87b604927b115b27c00565d3d43f05ba2f3a2cb0d"
   }
  }
 },
 "nbformat": 4,
 "nbformat_minor": 2
}
