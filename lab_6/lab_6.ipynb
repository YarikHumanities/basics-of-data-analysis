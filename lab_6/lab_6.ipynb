{
 "cells": [
  {
   "cell_type": "code",
   "execution_count": 1637,
   "metadata": {},
   "outputs": [
    {
     "data": {
      "text/html": [
       "<div>\n",
       "<style scoped>\n",
       "    .dataframe tbody tr th:only-of-type {\n",
       "        vertical-align: middle;\n",
       "    }\n",
       "\n",
       "    .dataframe tbody tr th {\n",
       "        vertical-align: top;\n",
       "    }\n",
       "\n",
       "    .dataframe thead th {\n",
       "        text-align: right;\n",
       "    }\n",
       "</style>\n",
       "<table border=\"1\" class=\"dataframe\">\n",
       "  <thead>\n",
       "    <tr style=\"text-align: right;\">\n",
       "      <th></th>\n",
       "      <th>Warehouse_block</th>\n",
       "      <th>Mode_of_Shipment</th>\n",
       "      <th>Customer_care_calls</th>\n",
       "      <th>Customer_rating</th>\n",
       "      <th>Cost_of_the_Product</th>\n",
       "      <th>Prior_purchases</th>\n",
       "      <th>Product_importance</th>\n",
       "      <th>Gender</th>\n",
       "      <th>Discount_offered</th>\n",
       "      <th>Weight_in_gms</th>\n",
       "      <th>Reached.on.Time_Y.N</th>\n",
       "    </tr>\n",
       "    <tr>\n",
       "      <th>ID</th>\n",
       "      <th></th>\n",
       "      <th></th>\n",
       "      <th></th>\n",
       "      <th></th>\n",
       "      <th></th>\n",
       "      <th></th>\n",
       "      <th></th>\n",
       "      <th></th>\n",
       "      <th></th>\n",
       "      <th></th>\n",
       "      <th></th>\n",
       "    </tr>\n",
       "  </thead>\n",
       "  <tbody>\n",
       "    <tr>\n",
       "      <th>1</th>\n",
       "      <td>D</td>\n",
       "      <td>Flight</td>\n",
       "      <td>4.0</td>\n",
       "      <td>2.0</td>\n",
       "      <td>177.0</td>\n",
       "      <td>3</td>\n",
       "      <td>low</td>\n",
       "      <td>F</td>\n",
       "      <td>44.0</td>\n",
       "      <td>1233.0</td>\n",
       "      <td>1.0</td>\n",
       "    </tr>\n",
       "    <tr>\n",
       "      <th>2</th>\n",
       "      <td>F</td>\n",
       "      <td>Flight</td>\n",
       "      <td>4.0</td>\n",
       "      <td>5.0</td>\n",
       "      <td>216.0</td>\n",
       "      <td>2</td>\n",
       "      <td>low</td>\n",
       "      <td>M</td>\n",
       "      <td>59.0</td>\n",
       "      <td>3088.0</td>\n",
       "      <td>1.0</td>\n",
       "    </tr>\n",
       "    <tr>\n",
       "      <th>3</th>\n",
       "      <td>A</td>\n",
       "      <td>Flight</td>\n",
       "      <td>2.0</td>\n",
       "      <td>2.0</td>\n",
       "      <td>183.0</td>\n",
       "      <td>4</td>\n",
       "      <td>low</td>\n",
       "      <td>M</td>\n",
       "      <td>48.0</td>\n",
       "      <td>3374.0</td>\n",
       "      <td>1.0</td>\n",
       "    </tr>\n",
       "    <tr>\n",
       "      <th>4</th>\n",
       "      <td>B</td>\n",
       "      <td>Flight</td>\n",
       "      <td>3.0</td>\n",
       "      <td>3.0</td>\n",
       "      <td>176.0</td>\n",
       "      <td>4</td>\n",
       "      <td>medium</td>\n",
       "      <td>M</td>\n",
       "      <td>10.0</td>\n",
       "      <td>1177.0</td>\n",
       "      <td>1.0</td>\n",
       "    </tr>\n",
       "    <tr>\n",
       "      <th>5</th>\n",
       "      <td>C</td>\n",
       "      <td>Flight</td>\n",
       "      <td>2.0</td>\n",
       "      <td>2.0</td>\n",
       "      <td>184.0</td>\n",
       "      <td>3</td>\n",
       "      <td>medium</td>\n",
       "      <td>F</td>\n",
       "      <td>46.0</td>\n",
       "      <td>2484.0</td>\n",
       "      <td>1.0</td>\n",
       "    </tr>\n",
       "    <tr>\n",
       "      <th>6</th>\n",
       "      <td>F</td>\n",
       "      <td>Flight</td>\n",
       "      <td>3.0</td>\n",
       "      <td>1.0</td>\n",
       "      <td>162.0</td>\n",
       "      <td>3</td>\n",
       "      <td>medium</td>\n",
       "      <td>F</td>\n",
       "      <td>12.0</td>\n",
       "      <td>1417.0</td>\n",
       "      <td>1.0</td>\n",
       "    </tr>\n",
       "    <tr>\n",
       "      <th>7</th>\n",
       "      <td>D</td>\n",
       "      <td>Flight</td>\n",
       "      <td>3.0</td>\n",
       "      <td>4.0</td>\n",
       "      <td>250.0</td>\n",
       "      <td>3</td>\n",
       "      <td>low</td>\n",
       "      <td>F</td>\n",
       "      <td>3.0</td>\n",
       "      <td>2371.0</td>\n",
       "      <td>1.0</td>\n",
       "    </tr>\n",
       "    <tr>\n",
       "      <th>8</th>\n",
       "      <td>F</td>\n",
       "      <td>Flight</td>\n",
       "      <td>4.0</td>\n",
       "      <td>1.0</td>\n",
       "      <td>233.0</td>\n",
       "      <td>2</td>\n",
       "      <td>low</td>\n",
       "      <td>F</td>\n",
       "      <td>48.0</td>\n",
       "      <td>2804.0</td>\n",
       "      <td>1.0</td>\n",
       "    </tr>\n",
       "    <tr>\n",
       "      <th>9</th>\n",
       "      <td>A</td>\n",
       "      <td>Flight</td>\n",
       "      <td>3.0</td>\n",
       "      <td>4.0</td>\n",
       "      <td>150.0</td>\n",
       "      <td>3</td>\n",
       "      <td>low</td>\n",
       "      <td>F</td>\n",
       "      <td>11.0</td>\n",
       "      <td>1861.0</td>\n",
       "      <td>1.0</td>\n",
       "    </tr>\n",
       "    <tr>\n",
       "      <th>10</th>\n",
       "      <td>B</td>\n",
       "      <td>Flight</td>\n",
       "      <td>3.0</td>\n",
       "      <td>2.0</td>\n",
       "      <td>164.0</td>\n",
       "      <td>3</td>\n",
       "      <td>medium</td>\n",
       "      <td>F</td>\n",
       "      <td>29.0</td>\n",
       "      <td>1187.0</td>\n",
       "      <td>1.0</td>\n",
       "    </tr>\n",
       "  </tbody>\n",
       "</table>\n",
       "</div>"
      ],
      "text/plain": [
       "   Warehouse_block Mode_of_Shipment  Customer_care_calls  Customer_rating  \\\n",
       "ID                                                                          \n",
       "1                D           Flight                  4.0              2.0   \n",
       "2                F           Flight                  4.0              5.0   \n",
       "3                A           Flight                  2.0              2.0   \n",
       "4                B           Flight                  3.0              3.0   \n",
       "5                C           Flight                  2.0              2.0   \n",
       "6                F           Flight                  3.0              1.0   \n",
       "7                D           Flight                  3.0              4.0   \n",
       "8                F           Flight                  4.0              1.0   \n",
       "9                A           Flight                  3.0              4.0   \n",
       "10               B           Flight                  3.0              2.0   \n",
       "\n",
       "    Cost_of_the_Product Prior_purchases Product_importance Gender  \\\n",
       "ID                                                                  \n",
       "1                 177.0               3                low      F   \n",
       "2                 216.0               2                low      M   \n",
       "3                 183.0               4                low      M   \n",
       "4                 176.0               4             medium      M   \n",
       "5                 184.0               3             medium      F   \n",
       "6                 162.0               3             medium      F   \n",
       "7                 250.0               3                low      F   \n",
       "8                 233.0               2                low      F   \n",
       "9                 150.0               3                low      F   \n",
       "10                164.0               3             medium      F   \n",
       "\n",
       "    Discount_offered  Weight_in_gms  Reached.on.Time_Y.N  \n",
       "ID                                                        \n",
       "1               44.0         1233.0                  1.0  \n",
       "2               59.0         3088.0                  1.0  \n",
       "3               48.0         3374.0                  1.0  \n",
       "4               10.0         1177.0                  1.0  \n",
       "5               46.0         2484.0                  1.0  \n",
       "6               12.0         1417.0                  1.0  \n",
       "7                3.0         2371.0                  1.0  \n",
       "8               48.0         2804.0                  1.0  \n",
       "9               11.0         1861.0                  1.0  \n",
       "10              29.0         1187.0                  1.0  "
      ]
     },
     "execution_count": 1637,
     "metadata": {},
     "output_type": "execute_result"
    }
   ],
   "source": [
    "import pandas as pd\n",
    "import numpy as np\n",
    "\n",
    "dataset_temp = pd.read_html('Version 14.html')\n",
    "dataset_temp\n",
    "dataset = pd.concat(dataset_temp)\n",
    "dataset = dataset.set_index(\"ID\")\n",
    "dataset.head(10)\n"
   ]
  },
  {
   "cell_type": "code",
   "execution_count": 1638,
   "metadata": {},
   "outputs": [
    {
     "data": {
      "text/plain": [
       "Warehouse_block         object\n",
       "Mode_of_Shipment        object\n",
       "Customer_care_calls    float64\n",
       "Customer_rating        float64\n",
       "Cost_of_the_Product    float64\n",
       "Prior_purchases         object\n",
       "Product_importance      object\n",
       "Gender                  object\n",
       "Discount_offered       float64\n",
       "Weight_in_gms          float64\n",
       "Reached.on.Time_Y.N    float64\n",
       "dtype: object"
      ]
     },
     "execution_count": 1638,
     "metadata": {},
     "output_type": "execute_result"
    }
   ],
   "source": [
    "dataset.dtypes\n",
    "# TODO: convert \"Prior_purchases to int\""
   ]
  },
  {
   "cell_type": "markdown",
   "metadata": {},
   "source": [
    "Cleansing a Data"
   ]
  },
  {
   "cell_type": "code",
   "execution_count": 1639,
   "metadata": {},
   "outputs": [
    {
     "data": {
      "text/html": [
       "<div>\n",
       "<style scoped>\n",
       "    .dataframe tbody tr th:only-of-type {\n",
       "        vertical-align: middle;\n",
       "    }\n",
       "\n",
       "    .dataframe tbody tr th {\n",
       "        vertical-align: top;\n",
       "    }\n",
       "\n",
       "    .dataframe thead th {\n",
       "        text-align: right;\n",
       "    }\n",
       "</style>\n",
       "<table border=\"1\" class=\"dataframe\">\n",
       "  <thead>\n",
       "    <tr style=\"text-align: right;\">\n",
       "      <th></th>\n",
       "      <th>Warehouse_block</th>\n",
       "      <th>Shipment</th>\n",
       "      <th>Customer_care_calls</th>\n",
       "      <th>Customer_rating</th>\n",
       "      <th>Product_Cost</th>\n",
       "      <th>Prior_purchases</th>\n",
       "      <th>Product_importance</th>\n",
       "      <th>Gender</th>\n",
       "      <th>Discount_offered</th>\n",
       "      <th>Weight_in_gms</th>\n",
       "      <th>Reached.on.Time_Y.N</th>\n",
       "    </tr>\n",
       "    <tr>\n",
       "      <th>ID</th>\n",
       "      <th></th>\n",
       "      <th></th>\n",
       "      <th></th>\n",
       "      <th></th>\n",
       "      <th></th>\n",
       "      <th></th>\n",
       "      <th></th>\n",
       "      <th></th>\n",
       "      <th></th>\n",
       "      <th></th>\n",
       "      <th></th>\n",
       "    </tr>\n",
       "  </thead>\n",
       "  <tbody>\n",
       "    <tr>\n",
       "      <th>192</th>\n",
       "      <td>F</td>\n",
       "      <td>Ship</td>\n",
       "      <td>NaN</td>\n",
       "      <td>133.0</td>\n",
       "      <td>3.0</td>\n",
       "      <td>low</td>\n",
       "      <td>F</td>\n",
       "      <td>62</td>\n",
       "      <td>1596.0</td>\n",
       "      <td>1.0</td>\n",
       "      <td>NaN</td>\n",
       "    </tr>\n",
       "    <tr>\n",
       "      <th>732</th>\n",
       "      <td>F</td>\n",
       "      <td>Ship</td>\n",
       "      <td>6.0</td>\n",
       "      <td>5.0</td>\n",
       "      <td>113.0</td>\n",
       "      <td>3</td>\n",
       "      <td>high</td>\n",
       "      <td>F</td>\n",
       "      <td>35.0</td>\n",
       "      <td>1402.0</td>\n",
       "      <td>1.0</td>\n",
       "    </tr>\n",
       "    <tr>\n",
       "      <th>275</th>\n",
       "      <td>C</td>\n",
       "      <td>Flight</td>\n",
       "      <td>3.0</td>\n",
       "      <td>5.0</td>\n",
       "      <td>229.0</td>\n",
       "      <td>6</td>\n",
       "      <td>medium</td>\n",
       "      <td>M</td>\n",
       "      <td>22.0</td>\n",
       "      <td>2717.0</td>\n",
       "      <td>1.0</td>\n",
       "    </tr>\n",
       "    <tr>\n",
       "      <th>273</th>\n",
       "      <td>A</td>\n",
       "      <td>Flight</td>\n",
       "      <td>4.0</td>\n",
       "      <td>5.0</td>\n",
       "      <td>148.0</td>\n",
       "      <td>2</td>\n",
       "      <td>medium</td>\n",
       "      <td>F</td>\n",
       "      <td>43.0</td>\n",
       "      <td>1087.0</td>\n",
       "      <td>1.0</td>\n",
       "    </tr>\n",
       "    <tr>\n",
       "      <th>938</th>\n",
       "      <td>F</td>\n",
       "      <td>Road</td>\n",
       "      <td>4.0</td>\n",
       "      <td>5.0</td>\n",
       "      <td>143.0</td>\n",
       "      <td>2</td>\n",
       "      <td>medium</td>\n",
       "      <td>F</td>\n",
       "      <td>20.0</td>\n",
       "      <td>1360.0</td>\n",
       "      <td>1.0</td>\n",
       "    </tr>\n",
       "    <tr>\n",
       "      <th>270</th>\n",
       "      <td>F</td>\n",
       "      <td>Flight</td>\n",
       "      <td>4.0</td>\n",
       "      <td>5.0</td>\n",
       "      <td>208.0</td>\n",
       "      <td>3</td>\n",
       "      <td>medium</td>\n",
       "      <td>M</td>\n",
       "      <td>23.0</td>\n",
       "      <td>2056.0</td>\n",
       "      <td>1.0</td>\n",
       "    </tr>\n",
       "    <tr>\n",
       "      <th>269</th>\n",
       "      <td>C</td>\n",
       "      <td>Road</td>\n",
       "      <td>3.0</td>\n",
       "      <td>5.0</td>\n",
       "      <td>241.0</td>\n",
       "      <td>3</td>\n",
       "      <td>low</td>\n",
       "      <td>F</td>\n",
       "      <td>21.0</td>\n",
       "      <td>3078.0</td>\n",
       "      <td>1.0</td>\n",
       "    </tr>\n",
       "    <tr>\n",
       "      <th>543</th>\n",
       "      <td>A</td>\n",
       "      <td>Road</td>\n",
       "      <td>4.0</td>\n",
       "      <td>5.0</td>\n",
       "      <td>218.0</td>\n",
       "      <td>3</td>\n",
       "      <td>low</td>\n",
       "      <td>F</td>\n",
       "      <td>40.0</td>\n",
       "      <td>3200.0</td>\n",
       "      <td>1.0</td>\n",
       "    </tr>\n",
       "    <tr>\n",
       "      <th>1253</th>\n",
       "      <td>C</td>\n",
       "      <td>Ship</td>\n",
       "      <td>5.0</td>\n",
       "      <td>5.0</td>\n",
       "      <td>226.0</td>\n",
       "      <td>3</td>\n",
       "      <td>medium</td>\n",
       "      <td>F</td>\n",
       "      <td>65.0</td>\n",
       "      <td>3840.0</td>\n",
       "      <td>1.0</td>\n",
       "    </tr>\n",
       "    <tr>\n",
       "      <th>933</th>\n",
       "      <td>A</td>\n",
       "      <td>Road</td>\n",
       "      <td>3.0</td>\n",
       "      <td>5.0</td>\n",
       "      <td>242.0</td>\n",
       "      <td>3</td>\n",
       "      <td>medium</td>\n",
       "      <td>F</td>\n",
       "      <td>3.0</td>\n",
       "      <td>2268.0</td>\n",
       "      <td>1.0</td>\n",
       "    </tr>\n",
       "  </tbody>\n",
       "</table>\n",
       "</div>"
      ],
      "text/plain": [
       "     Warehouse_block Shipment  Customer_care_calls  Customer_rating  \\\n",
       "ID                                                                    \n",
       "192                F     Ship                  NaN            133.0   \n",
       "732                F     Ship                  6.0              5.0   \n",
       "275                C   Flight                  3.0              5.0   \n",
       "273                A   Flight                  4.0              5.0   \n",
       "938                F     Road                  4.0              5.0   \n",
       "270                F   Flight                  4.0              5.0   \n",
       "269                C     Road                  3.0              5.0   \n",
       "543                A     Road                  4.0              5.0   \n",
       "1253               C     Ship                  5.0              5.0   \n",
       "933                A     Road                  3.0              5.0   \n",
       "\n",
       "      Product_Cost Prior_purchases Product_importance Gender  \\\n",
       "ID                                                             \n",
       "192            3.0             low                  F     62   \n",
       "732          113.0               3               high      F   \n",
       "275          229.0               6             medium      M   \n",
       "273          148.0               2             medium      F   \n",
       "938          143.0               2             medium      F   \n",
       "270          208.0               3             medium      M   \n",
       "269          241.0               3                low      F   \n",
       "543          218.0               3                low      F   \n",
       "1253         226.0               3             medium      F   \n",
       "933          242.0               3             medium      F   \n",
       "\n",
       "      Discount_offered  Weight_in_gms  Reached.on.Time_Y.N  \n",
       "ID                                                          \n",
       "192             1596.0            1.0                  NaN  \n",
       "732               35.0         1402.0                  1.0  \n",
       "275               22.0         2717.0                  1.0  \n",
       "273               43.0         1087.0                  1.0  \n",
       "938               20.0         1360.0                  1.0  \n",
       "270               23.0         2056.0                  1.0  \n",
       "269               21.0         3078.0                  1.0  \n",
       "543               40.0         3200.0                  1.0  \n",
       "1253              65.0         3840.0                  1.0  \n",
       "933                3.0         2268.0                  1.0  "
      ]
     },
     "execution_count": 1639,
     "metadata": {},
     "output_type": "execute_result"
    }
   ],
   "source": [
    "# TODO: rename columns\n",
    "# dataset.columns = [\"\", \"\", \"\", \"\", \"\", \"\", \"\", \"\", \"\", \"\"]\n",
    "dataset.rename(columns={\"Mode_of_Shipment\": \"Shipment\", \"Cost_of_the_Product\": \"Product_Cost\", }, inplace=True)\n",
    "dataset.head(10)\n",
    "\n",
    "# TODO: sort and reordering\n",
    "# Thus we have INT indexes and dont have data that must be really sorted we won't be doing smth like that, but it will be the sample of it\n",
    "dataset.sort_values(by=\"Customer_rating\", ascending=False).head(10)\n",
    "\n",
    "# We will reorder columns just for comfort of reading. So data about clients and products will be\n",
    "\n"
   ]
  },
  {
   "cell_type": "code",
   "execution_count": 1640,
   "metadata": {},
   "outputs": [
    {
     "data": {
      "text/plain": [
       "Warehouse_block           6\n",
       "Shipment                  5\n",
       "Customer_care_calls       6\n",
       "Customer_rating           6\n",
       "Product_Cost            183\n",
       "Prior_purchases           9\n",
       "Product_importance        4\n",
       "Gender                    5\n",
       "Discount_offered         66\n",
       "Weight_in_gms          1141\n",
       "Reached.on.Time_Y.N       1\n",
       "dtype: int64"
      ]
     },
     "execution_count": 1640,
     "metadata": {},
     "output_type": "execute_result"
    }
   ],
   "source": [
    "dataset.nunique()"
   ]
  },
  {
   "cell_type": "code",
   "execution_count": 1641,
   "metadata": {},
   "outputs": [
    {
     "name": "stdout",
     "output_type": "stream",
     "text": [
      "{'Warehouse_block': 1, 'Shipment': 2, 'Customer_care_calls': 3, 'Customer_rating': 2, 'Product_Cost': 2, 'Prior_purchases': 1, 'Product_importance': 2, 'Gender': 1, 'Discount_offered': 1, 'Weight_in_gms': 2, 'Reached.on.Time_Y.N': 2}\n"
     ]
    }
   ],
   "source": [
    "def count_nulls(df):\n",
    "    null_cols = df.isnull().sum()\n",
    "    return null_cols.to_dict()\n",
    "\n",
    "print(count_nulls(dataset))"
   ]
  },
  {
   "cell_type": "code",
   "execution_count": 1642,
   "metadata": {},
   "outputs": [
    {
     "data": {
      "text/html": [
       "<div>\n",
       "<style scoped>\n",
       "    .dataframe tbody tr th:only-of-type {\n",
       "        vertical-align: middle;\n",
       "    }\n",
       "\n",
       "    .dataframe tbody tr th {\n",
       "        vertical-align: top;\n",
       "    }\n",
       "\n",
       "    .dataframe thead th {\n",
       "        text-align: right;\n",
       "    }\n",
       "</style>\n",
       "<table border=\"1\" class=\"dataframe\">\n",
       "  <thead>\n",
       "    <tr style=\"text-align: right;\">\n",
       "      <th></th>\n",
       "      <th>Warehouse_block</th>\n",
       "      <th>Shipment</th>\n",
       "      <th>Customer_care_calls</th>\n",
       "      <th>Customer_rating</th>\n",
       "      <th>Product_Cost</th>\n",
       "      <th>Prior_purchases</th>\n",
       "      <th>Product_importance</th>\n",
       "      <th>Gender</th>\n",
       "      <th>Discount_offered</th>\n",
       "      <th>Weight_in_gms</th>\n",
       "      <th>Reached.on.Time_Y.N</th>\n",
       "    </tr>\n",
       "    <tr>\n",
       "      <th>ID</th>\n",
       "      <th></th>\n",
       "      <th></th>\n",
       "      <th></th>\n",
       "      <th></th>\n",
       "      <th></th>\n",
       "      <th></th>\n",
       "      <th></th>\n",
       "      <th></th>\n",
       "      <th></th>\n",
       "      <th></th>\n",
       "      <th></th>\n",
       "    </tr>\n",
       "  </thead>\n",
       "  <tbody>\n",
       "    <tr>\n",
       "      <th>166</th>\n",
       "      <td>NaN</td>\n",
       "      <td>NaN</td>\n",
       "      <td>NaN</td>\n",
       "      <td>NaN</td>\n",
       "      <td>NaN</td>\n",
       "      <td>NaN</td>\n",
       "      <td>NaN</td>\n",
       "      <td>NaN</td>\n",
       "      <td>NaN</td>\n",
       "      <td>NaN</td>\n",
       "      <td>NaN</td>\n",
       "    </tr>\n",
       "  </tbody>\n",
       "</table>\n",
       "</div>"
      ],
      "text/plain": [
       "    Warehouse_block Shipment  Customer_care_calls  Customer_rating  \\\n",
       "ID                                                                   \n",
       "166             NaN      NaN                  NaN              NaN   \n",
       "\n",
       "     Product_Cost Prior_purchases Product_importance Gender  Discount_offered  \\\n",
       "ID                                                                              \n",
       "166           NaN             NaN                NaN    NaN               NaN   \n",
       "\n",
       "     Weight_in_gms  Reached.on.Time_Y.N  \n",
       "ID                                       \n",
       "166            NaN                  NaN  "
      ]
     },
     "execution_count": 1642,
     "metadata": {},
     "output_type": "execute_result"
    }
   ],
   "source": [
    "null_rows = dataset.isnull().mean(axis=1) > 0.5\n",
    "dataset[null_rows]"
   ]
  },
  {
   "cell_type": "code",
   "execution_count": 1643,
   "metadata": {},
   "outputs": [],
   "source": [
    "dataset = dataset.drop(dataset[null_rows].index)"
   ]
  },
  {
   "cell_type": "code",
   "execution_count": 1644,
   "metadata": {},
   "outputs": [],
   "source": [
    "null_rows = dataset.isnull().mean(axis=1) > 0.5\n",
    "if not null_rows.any():\n",
    "  num_null_rows = 0\n",
    "else:\n",
    "  num_null_rows = dataset[null_rows].shape[0]\n"
   ]
  },
  {
   "cell_type": "code",
   "execution_count": 1645,
   "metadata": {},
   "outputs": [],
   "source": [
    "dataset.reset_index(drop=True, inplace=True)"
   ]
  },
  {
   "cell_type": "code",
   "execution_count": 1646,
   "metadata": {},
   "outputs": [],
   "source": [
    "# TODO: change to 'category' datatype\n",
    "# Warehouse_block, Shipment, Prior_purchases, Product_importance, Gender"
   ]
  },
  {
   "cell_type": "code",
   "execution_count": 1647,
   "metadata": {},
   "outputs": [],
   "source": [
    "def convert_to_category(df, column):\n",
    "    df[column] = df[column].astype('category')\n",
    "    df[column].cat.add_categories(['null'], inplace=True)\n",
    "    df.loc[~df[column].isin(df[column].cat.categories), column] = 'null'\n",
    "    return df\n",
    "# dataset['Gender'] = dataset['Gender'].astype('category')"
   ]
  },
  {
   "cell_type": "code",
   "execution_count": 1648,
   "metadata": {},
   "outputs": [
    {
     "data": {
      "text/plain": [
       "array(['F', 'M', '62', 'Male', 'Female'], dtype=object)"
      ]
     },
     "execution_count": 1648,
     "metadata": {},
     "output_type": "execute_result"
    }
   ],
   "source": [
    "dataset['Gender'].unique()"
   ]
  },
  {
   "cell_type": "code",
   "execution_count": 1649,
   "metadata": {},
   "outputs": [],
   "source": [
    "def convert_to_valid_values(df, column):\n",
    "    df[column] = df[column].map({'Man':'M', 'Female':'F', 'Woman':'F'}).fillna(df[column])\n",
    "    df.loc[~df[column].isin(['M','F']), column] = np.NaN\n",
    "    return df\n",
    "\n",
    "dataset = convert_to_valid_values(dataset, 'Gender')"
   ]
  },
  {
   "cell_type": "code",
   "execution_count": 1650,
   "metadata": {},
   "outputs": [
    {
     "name": "stderr",
     "output_type": "stream",
     "text": [
      "C:\\Users\\User\\AppData\\Local\\Temp\\ipykernel_21612\\3492534055.py:3: FutureWarning: The `inplace` parameter in pandas.Categorical.add_categories is deprecated and will be removed in a future version. Removing unused categories will always return a new Categorical object.\n",
      "  df[column].cat.add_categories(['null'], inplace=True)\n"
     ]
    }
   ],
   "source": [
    "\n",
    "dataset = convert_to_category(dataset, 'Gender')"
   ]
  },
  {
   "cell_type": "code",
   "execution_count": 1651,
   "metadata": {},
   "outputs": [
    {
     "data": {
      "text/plain": [
       "['F', 'M', 'null']\n",
       "Categories (3, object): ['F', 'M', 'null']"
      ]
     },
     "execution_count": 1651,
     "metadata": {},
     "output_type": "execute_result"
    }
   ],
   "source": [
    "dataset['Gender'].unique()"
   ]
  },
  {
   "cell_type": "code",
   "execution_count": 1652,
   "metadata": {},
   "outputs": [],
   "source": [
    "def replace_null_category(df, column):\n",
    "    # Check if the column is of type category\n",
    "    if df[column].dtype != \"category\":\n",
    "        print(f\"{column} is not of type category\")\n",
    "        return\n",
    "    # Check if the column has a category \"null\"\n",
    "    if \"null\" not in df[column].cat.categories:\n",
    "        print(f\"{column} does not have a category 'null'\")\n",
    "        return\n",
    "    # Replace values of category \"null\" with NaN\n",
    "    df[column].cat.remove_categories(\"null\", inplace=True)"
   ]
  },
  {
   "cell_type": "code",
   "execution_count": 1653,
   "metadata": {},
   "outputs": [
    {
     "name": "stderr",
     "output_type": "stream",
     "text": [
      "C:\\Users\\User\\AppData\\Local\\Temp\\ipykernel_21612\\160654791.py:11: FutureWarning: The `inplace` parameter in pandas.Categorical.remove_categories is deprecated and will be removed in a future version. Removing unused categories will always return a new Categorical object.\n",
      "  df[column].cat.remove_categories(\"null\", inplace=True)\n"
     ]
    }
   ],
   "source": [
    "replace_null_category(dataset, 'Gender')\n"
   ]
  },
  {
   "cell_type": "code",
   "execution_count": 1654,
   "metadata": {},
   "outputs": [
    {
     "data": {
      "text/plain": [
       "['F', 'M', NaN]\n",
       "Categories (2, object): ['F', 'M']"
      ]
     },
     "execution_count": 1654,
     "metadata": {},
     "output_type": "execute_result"
    }
   ],
   "source": [
    "dataset['Gender'].unique()"
   ]
  },
  {
   "cell_type": "code",
   "execution_count": 1655,
   "metadata": {},
   "outputs": [],
   "source": [
    "def unique_values(df, columns):\n",
    "    unique_values_dict = {}\n",
    "    for column in columns:\n",
    "        if column in df.columns:\n",
    "            unique_values_dict[column] = df[column].unique()\n",
    "        else:\n",
    "            print(f\"{column} is not a valid column name\")\n",
    "    return unique_values_dict"
   ]
  },
  {
   "cell_type": "code",
   "execution_count": 1656,
   "metadata": {},
   "outputs": [
    {
     "name": "stdout",
     "output_type": "stream",
     "text": [
      "{'Gender': ['F', 'M', NaN]\n",
      "Categories (2, object): ['F', 'M'],\n",
      " 'Prior_purchases': array(['3', '2', '4', '6', '5', '7', '10', 'low', '8'], dtype=object),\n",
      " 'Product_importance': array(['low', 'medium', 'high', nan, 'F'], dtype=object),\n",
      " 'Shipment': array(['Flight', 'Flightttttttttt', 'Ship', 'Road', '???', nan],\n",
      "      dtype=object),\n",
      " 'Warehouse_block': array(['D', 'F', 'A', 'B', 'C', 'AAAAAA'], dtype=object)}\n"
     ]
    }
   ],
   "source": [
    "from pprint import pprint\n",
    "pprint(unique_values(dataset, ['Warehouse_block', 'Shipment', 'Prior_purchases', 'Product_importance', 'Gender']))"
   ]
  },
  {
   "cell_type": "code",
   "execution_count": 1657,
   "metadata": {},
   "outputs": [],
   "source": [
    "def replace_column_values(df, column, check_value, replacement_value):\n",
    "    df[column] = df[column].apply(lambda x: replacement_value if x == check_value else x)\n",
    "    return df"
   ]
  },
  {
   "cell_type": "code",
   "execution_count": 1658,
   "metadata": {},
   "outputs": [],
   "source": [
    "dataset = replace_column_values(dataset, 'Warehouse_block', 'AAAAAA', 'A')"
   ]
  },
  {
   "cell_type": "code",
   "execution_count": 1659,
   "metadata": {},
   "outputs": [],
   "source": [
    "dataset = replace_column_values(dataset, 'Shipment', 'Flightttttttttt', 'Flight')\n",
    "dataset = replace_column_values(dataset, 'Shipment', '???', np.NaN)"
   ]
  },
  {
   "cell_type": "code",
   "execution_count": 1660,
   "metadata": {},
   "outputs": [],
   "source": [
    "dataset = replace_column_values(dataset, 'Product_importance', 'F', np.NaN)"
   ]
  },
  {
   "cell_type": "code",
   "execution_count": 1661,
   "metadata": {},
   "outputs": [],
   "source": [
    "dataset = replace_column_values(dataset, 'Prior_purchases', 'low', '2')"
   ]
  },
  {
   "cell_type": "code",
   "execution_count": 1662,
   "metadata": {},
   "outputs": [
    {
     "name": "stdout",
     "output_type": "stream",
     "text": [
      "{'Gender': ['F', 'M', NaN]\n",
      "Categories (2, object): ['F', 'M'],\n",
      " 'Prior_purchases': array(['3', '2', '4', '6', '5', '7', '10', '8'], dtype=object),\n",
      " 'Product_importance': array(['low', 'medium', 'high', nan], dtype=object),\n",
      " 'Shipment': array(['Flight', 'Ship', 'Road', nan], dtype=object),\n",
      " 'Warehouse_block': array(['D', 'F', 'A', 'B', 'C'], dtype=object)}\n"
     ]
    }
   ],
   "source": [
    "pprint(unique_values(dataset, ['Warehouse_block', 'Shipment', 'Prior_purchases', 'Product_importance', 'Gender']))"
   ]
  },
  {
   "cell_type": "code",
   "execution_count": 1663,
   "metadata": {},
   "outputs": [],
   "source": [
    "dataset['Prior_purchases'] = pd.to_numeric(dataset['Prior_purchases'], errors='coerce')"
   ]
  },
  {
   "cell_type": "code",
   "execution_count": 1664,
   "metadata": {},
   "outputs": [
    {
     "name": "stderr",
     "output_type": "stream",
     "text": [
      "C:\\Users\\User\\AppData\\Local\\Temp\\ipykernel_21612\\3492534055.py:3: FutureWarning: The `inplace` parameter in pandas.Categorical.add_categories is deprecated and will be removed in a future version. Removing unused categories will always return a new Categorical object.\n",
      "  df[column].cat.add_categories(['null'], inplace=True)\n",
      "C:\\Users\\User\\AppData\\Local\\Temp\\ipykernel_21612\\160654791.py:11: FutureWarning: The `inplace` parameter in pandas.Categorical.remove_categories is deprecated and will be removed in a future version. Removing unused categories will always return a new Categorical object.\n",
      "  df[column].cat.remove_categories(\"null\", inplace=True)\n",
      "C:\\Users\\User\\AppData\\Local\\Temp\\ipykernel_21612\\3492534055.py:3: FutureWarning: The `inplace` parameter in pandas.Categorical.add_categories is deprecated and will be removed in a future version. Removing unused categories will always return a new Categorical object.\n",
      "  df[column].cat.add_categories(['null'], inplace=True)\n",
      "C:\\Users\\User\\AppData\\Local\\Temp\\ipykernel_21612\\160654791.py:11: FutureWarning: The `inplace` parameter in pandas.Categorical.remove_categories is deprecated and will be removed in a future version. Removing unused categories will always return a new Categorical object.\n",
      "  df[column].cat.remove_categories(\"null\", inplace=True)\n",
      "C:\\Users\\User\\AppData\\Local\\Temp\\ipykernel_21612\\3492534055.py:3: FutureWarning: The `inplace` parameter in pandas.Categorical.add_categories is deprecated and will be removed in a future version. Removing unused categories will always return a new Categorical object.\n",
      "  df[column].cat.add_categories(['null'], inplace=True)\n",
      "C:\\Users\\User\\AppData\\Local\\Temp\\ipykernel_21612\\160654791.py:11: FutureWarning: The `inplace` parameter in pandas.Categorical.remove_categories is deprecated and will be removed in a future version. Removing unused categories will always return a new Categorical object.\n",
      "  df[column].cat.remove_categories(\"null\", inplace=True)\n"
     ]
    }
   ],
   "source": [
    "temp = ['Product_importance', 'Shipment', 'Warehouse_block']\n",
    "for column in temp:\n",
    "    convert_to_category(dataset, column)\n",
    "    replace_null_category(dataset, column)\n",
    "    "
   ]
  },
  {
   "cell_type": "code",
   "execution_count": 1665,
   "metadata": {},
   "outputs": [
    {
     "name": "stdout",
     "output_type": "stream",
     "text": [
      "{'Gender': ['F', 'M', NaN]\n",
      "Categories (2, object): ['F', 'M'],\n",
      " 'Prior_purchases': array([ 3,  2,  4,  6,  5,  7, 10,  8], dtype=int64),\n",
      " 'Product_importance': ['low', 'medium', 'high', NaN]\n",
      "Categories (3, object): ['high', 'low', 'medium'],\n",
      " 'Shipment': ['Flight', 'Ship', 'Road', NaN]\n",
      "Categories (3, object): ['Flight', 'Road', 'Ship'],\n",
      " 'Warehouse_block': ['D', 'F', 'A', 'B', 'C']\n",
      "Categories (5, object): ['A', 'B', 'C', 'D', 'F']}\n"
     ]
    }
   ],
   "source": [
    "pprint(unique_values(dataset, ['Warehouse_block', 'Shipment', 'Prior_purchases', 'Product_importance', 'Gender']))"
   ]
  },
  {
   "cell_type": "code",
   "execution_count": 1666,
   "metadata": {},
   "outputs": [
    {
     "data": {
      "text/html": [
       "<div>\n",
       "<style scoped>\n",
       "    .dataframe tbody tr th:only-of-type {\n",
       "        vertical-align: middle;\n",
       "    }\n",
       "\n",
       "    .dataframe tbody tr th {\n",
       "        vertical-align: top;\n",
       "    }\n",
       "\n",
       "    .dataframe thead th {\n",
       "        text-align: right;\n",
       "    }\n",
       "</style>\n",
       "<table border=\"1\" class=\"dataframe\">\n",
       "  <thead>\n",
       "    <tr style=\"text-align: right;\">\n",
       "      <th></th>\n",
       "      <th>Warehouse_block</th>\n",
       "      <th>Shipment</th>\n",
       "      <th>Customer_care_calls</th>\n",
       "      <th>Customer_rating</th>\n",
       "      <th>Product_Cost</th>\n",
       "      <th>Prior_purchases</th>\n",
       "      <th>Product_importance</th>\n",
       "      <th>Gender</th>\n",
       "      <th>Discount_offered</th>\n",
       "      <th>Weight_in_gms</th>\n",
       "      <th>Reached.on.Time_Y.N</th>\n",
       "    </tr>\n",
       "  </thead>\n",
       "  <tbody>\n",
       "    <tr>\n",
       "      <th>0</th>\n",
       "      <td>D</td>\n",
       "      <td>Flight</td>\n",
       "      <td>4.0</td>\n",
       "      <td>2.0</td>\n",
       "      <td>177.0</td>\n",
       "      <td>3</td>\n",
       "      <td>low</td>\n",
       "      <td>F</td>\n",
       "      <td>44.0</td>\n",
       "      <td>1233.0</td>\n",
       "      <td>1.0</td>\n",
       "    </tr>\n",
       "    <tr>\n",
       "      <th>1</th>\n",
       "      <td>F</td>\n",
       "      <td>Flight</td>\n",
       "      <td>4.0</td>\n",
       "      <td>5.0</td>\n",
       "      <td>216.0</td>\n",
       "      <td>2</td>\n",
       "      <td>low</td>\n",
       "      <td>M</td>\n",
       "      <td>59.0</td>\n",
       "      <td>3088.0</td>\n",
       "      <td>1.0</td>\n",
       "    </tr>\n",
       "    <tr>\n",
       "      <th>2</th>\n",
       "      <td>A</td>\n",
       "      <td>Flight</td>\n",
       "      <td>2.0</td>\n",
       "      <td>2.0</td>\n",
       "      <td>183.0</td>\n",
       "      <td>4</td>\n",
       "      <td>low</td>\n",
       "      <td>M</td>\n",
       "      <td>48.0</td>\n",
       "      <td>3374.0</td>\n",
       "      <td>1.0</td>\n",
       "    </tr>\n",
       "    <tr>\n",
       "      <th>3</th>\n",
       "      <td>B</td>\n",
       "      <td>Flight</td>\n",
       "      <td>3.0</td>\n",
       "      <td>3.0</td>\n",
       "      <td>176.0</td>\n",
       "      <td>4</td>\n",
       "      <td>medium</td>\n",
       "      <td>M</td>\n",
       "      <td>10.0</td>\n",
       "      <td>1177.0</td>\n",
       "      <td>1.0</td>\n",
       "    </tr>\n",
       "    <tr>\n",
       "      <th>4</th>\n",
       "      <td>C</td>\n",
       "      <td>Flight</td>\n",
       "      <td>2.0</td>\n",
       "      <td>2.0</td>\n",
       "      <td>184.0</td>\n",
       "      <td>3</td>\n",
       "      <td>medium</td>\n",
       "      <td>F</td>\n",
       "      <td>46.0</td>\n",
       "      <td>2484.0</td>\n",
       "      <td>1.0</td>\n",
       "    </tr>\n",
       "    <tr>\n",
       "      <th>5</th>\n",
       "      <td>F</td>\n",
       "      <td>Flight</td>\n",
       "      <td>3.0</td>\n",
       "      <td>1.0</td>\n",
       "      <td>162.0</td>\n",
       "      <td>3</td>\n",
       "      <td>medium</td>\n",
       "      <td>F</td>\n",
       "      <td>12.0</td>\n",
       "      <td>1417.0</td>\n",
       "      <td>1.0</td>\n",
       "    </tr>\n",
       "    <tr>\n",
       "      <th>6</th>\n",
       "      <td>D</td>\n",
       "      <td>Flight</td>\n",
       "      <td>3.0</td>\n",
       "      <td>4.0</td>\n",
       "      <td>250.0</td>\n",
       "      <td>3</td>\n",
       "      <td>low</td>\n",
       "      <td>F</td>\n",
       "      <td>3.0</td>\n",
       "      <td>2371.0</td>\n",
       "      <td>1.0</td>\n",
       "    </tr>\n",
       "    <tr>\n",
       "      <th>7</th>\n",
       "      <td>F</td>\n",
       "      <td>Flight</td>\n",
       "      <td>4.0</td>\n",
       "      <td>1.0</td>\n",
       "      <td>233.0</td>\n",
       "      <td>2</td>\n",
       "      <td>low</td>\n",
       "      <td>F</td>\n",
       "      <td>48.0</td>\n",
       "      <td>2804.0</td>\n",
       "      <td>1.0</td>\n",
       "    </tr>\n",
       "    <tr>\n",
       "      <th>8</th>\n",
       "      <td>A</td>\n",
       "      <td>Flight</td>\n",
       "      <td>3.0</td>\n",
       "      <td>4.0</td>\n",
       "      <td>150.0</td>\n",
       "      <td>3</td>\n",
       "      <td>low</td>\n",
       "      <td>F</td>\n",
       "      <td>11.0</td>\n",
       "      <td>1861.0</td>\n",
       "      <td>1.0</td>\n",
       "    </tr>\n",
       "    <tr>\n",
       "      <th>9</th>\n",
       "      <td>B</td>\n",
       "      <td>Flight</td>\n",
       "      <td>3.0</td>\n",
       "      <td>2.0</td>\n",
       "      <td>164.0</td>\n",
       "      <td>3</td>\n",
       "      <td>medium</td>\n",
       "      <td>F</td>\n",
       "      <td>29.0</td>\n",
       "      <td>1187.0</td>\n",
       "      <td>1.0</td>\n",
       "    </tr>\n",
       "  </tbody>\n",
       "</table>\n",
       "</div>"
      ],
      "text/plain": [
       "  Warehouse_block Shipment  Customer_care_calls  Customer_rating  \\\n",
       "0               D   Flight                  4.0              2.0   \n",
       "1               F   Flight                  4.0              5.0   \n",
       "2               A   Flight                  2.0              2.0   \n",
       "3               B   Flight                  3.0              3.0   \n",
       "4               C   Flight                  2.0              2.0   \n",
       "5               F   Flight                  3.0              1.0   \n",
       "6               D   Flight                  3.0              4.0   \n",
       "7               F   Flight                  4.0              1.0   \n",
       "8               A   Flight                  3.0              4.0   \n",
       "9               B   Flight                  3.0              2.0   \n",
       "\n",
       "   Product_Cost  Prior_purchases Product_importance Gender  Discount_offered  \\\n",
       "0         177.0                3                low      F              44.0   \n",
       "1         216.0                2                low      M              59.0   \n",
       "2         183.0                4                low      M              48.0   \n",
       "3         176.0                4             medium      M              10.0   \n",
       "4         184.0                3             medium      F              46.0   \n",
       "5         162.0                3             medium      F              12.0   \n",
       "6         250.0                3                low      F               3.0   \n",
       "7         233.0                2                low      F              48.0   \n",
       "8         150.0                3                low      F              11.0   \n",
       "9         164.0                3             medium      F              29.0   \n",
       "\n",
       "   Weight_in_gms  Reached.on.Time_Y.N  \n",
       "0         1233.0                  1.0  \n",
       "1         3088.0                  1.0  \n",
       "2         3374.0                  1.0  \n",
       "3         1177.0                  1.0  \n",
       "4         2484.0                  1.0  \n",
       "5         1417.0                  1.0  \n",
       "6         2371.0                  1.0  \n",
       "7         2804.0                  1.0  \n",
       "8         1861.0                  1.0  \n",
       "9         1187.0                  1.0  "
      ]
     },
     "execution_count": 1666,
     "metadata": {},
     "output_type": "execute_result"
    }
   ],
   "source": [
    "dataset.dtypes\n",
    "dataset.head(10)"
   ]
  },
  {
   "cell_type": "code",
   "execution_count": 1667,
   "metadata": {},
   "outputs": [],
   "source": [
    "dataset = dataset.rename(columns={'Reached.on.Time_Y.N': 'Reached_On_Time'})\n"
   ]
  },
  {
   "cell_type": "code",
   "execution_count": 1668,
   "metadata": {},
   "outputs": [],
   "source": [
    "dataset = dataset.replace([np.inf, -np.inf], np.nan)"
   ]
  },
  {
   "cell_type": "code",
   "execution_count": 1669,
   "metadata": {},
   "outputs": [
    {
     "name": "stdout",
     "output_type": "stream",
     "text": [
      "Warehouse_block        0\n",
      "Shipment               2\n",
      "Customer_care_calls    2\n",
      "Customer_rating        1\n",
      "Product_Cost           1\n",
      "Prior_purchases        0\n",
      "Product_importance     2\n",
      "Gender                 4\n",
      "Discount_offered       0\n",
      "Weight_in_gms          1\n",
      "Reached_On_Time        1\n",
      "dtype: int64\n"
     ]
    }
   ],
   "source": [
    "nan_counts = dataset.isna().sum()\n",
    "print(nan_counts)\n",
    "\n",
    "# dataset.info"
   ]
  },
  {
   "cell_type": "code",
   "execution_count": 1670,
   "metadata": {},
   "outputs": [],
   "source": [
    "# dataset.dropna(subset=['Customer_care_calls'], inplace=True)\n",
    "\n",
    "\n",
    "columns_to_fill_with_average = ['Customer_care_calls', 'Customer_rating', 'Product_Cost', 'Product_importance']\n",
    "\n",
    "for column in columns_to_fill_with_average:\n",
    "    if dataset[column].dtypes == 'category':\n",
    "        average_value = dataset[column].mode()[0]\n",
    "    else:\n",
    "        average_value = dataset[column].mean()\n",
    "\n",
    "    dataset[column].fillna(average_value, inplace=True)"
   ]
  },
  {
   "cell_type": "code",
   "execution_count": 1671,
   "metadata": {},
   "outputs": [
    {
     "name": "stdout",
     "output_type": "stream",
     "text": [
      "Warehouse_block        0\n",
      "Shipment               2\n",
      "Customer_care_calls    0\n",
      "Customer_rating        0\n",
      "Product_Cost           0\n",
      "Prior_purchases        0\n",
      "Product_importance     0\n",
      "Gender                 4\n",
      "Discount_offered       0\n",
      "Weight_in_gms          1\n",
      "Reached_On_Time        1\n",
      "dtype: int64\n"
     ]
    }
   ],
   "source": [
    "print(dataset.isna().sum())"
   ]
  },
  {
   "cell_type": "code",
   "execution_count": 1672,
   "metadata": {},
   "outputs": [],
   "source": [
    "dataset.fillna({'Weight_in_gms': -1, 'Reached_On_Time': -1}, inplace=True)"
   ]
  },
  {
   "cell_type": "code",
   "execution_count": 1673,
   "metadata": {},
   "outputs": [],
   "source": [
    "dataset['Reached_On_Time'] = dataset['Reached_On_Time'].astype(int)"
   ]
  },
  {
   "cell_type": "code",
   "execution_count": 1674,
   "metadata": {},
   "outputs": [
    {
     "name": "stdout",
     "output_type": "stream",
     "text": [
      "Warehouse_block        0\n",
      "Shipment               2\n",
      "Customer_care_calls    0\n",
      "Customer_rating        0\n",
      "Product_Cost           0\n",
      "Prior_purchases        0\n",
      "Product_importance     0\n",
      "Gender                 4\n",
      "Discount_offered       0\n",
      "Weight_in_gms          0\n",
      "Reached_On_Time        0\n",
      "dtype: int64\n"
     ]
    }
   ],
   "source": [
    "print(dataset.isna().sum())"
   ]
  },
  {
   "cell_type": "code",
   "execution_count": 1675,
   "metadata": {},
   "outputs": [],
   "source": [
    "def drop_duplicates(df):\n",
    "    df.drop_duplicates(inplace=True)"
   ]
  },
  {
   "cell_type": "code",
   "execution_count": 1676,
   "metadata": {},
   "outputs": [
    {
     "data": {
      "text/plain": [
       "40"
      ]
     },
     "execution_count": 1676,
     "metadata": {},
     "output_type": "execute_result"
    }
   ],
   "source": [
    "dataset.duplicated().sum()"
   ]
  },
  {
   "cell_type": "code",
   "execution_count": 1677,
   "metadata": {},
   "outputs": [],
   "source": [
    "# BUT WE SHOULD NOT DO IT HERE\n",
    "drop_duplicates(dataset)"
   ]
  },
  {
   "cell_type": "code",
   "execution_count": 1678,
   "metadata": {},
   "outputs": [
    {
     "data": {
      "text/plain": [
       "0"
      ]
     },
     "execution_count": 1678,
     "metadata": {},
     "output_type": "execute_result"
    }
   ],
   "source": [
    "dataset.duplicated().sum()"
   ]
  },
  {
   "cell_type": "code",
   "execution_count": 1679,
   "metadata": {},
   "outputs": [],
   "source": [
    "import numpy as np\n",
    "\n",
    "def check_and_fill(df, col_name, col_range):\n",
    "    df[col_name] = np.where((df[col_name] < col_range[0]) | (df[col_name] > col_range[1]), np.nan, df[col_name])\n",
    "    df[col_name].fillna(method='ffill', inplace=True)\n",
    "    df[col_name].fillna(method='bfill', inplace=True)"
   ]
  },
  {
   "cell_type": "code",
   "execution_count": 1680,
   "metadata": {},
   "outputs": [],
   "source": [
    "check_and_fill(dataset, 'Discount_offered', (0, 100))"
   ]
  },
  {
   "cell_type": "code",
   "execution_count": 1681,
   "metadata": {},
   "outputs": [
    {
     "data": {
      "text/plain": [
       "0"
      ]
     },
     "execution_count": 1681,
     "metadata": {},
     "output_type": "execute_result"
    }
   ],
   "source": [
    "dataset[(dataset['Discount_offered'] > 100) | (dataset['Discount_offered'] < 0)].shape[0]"
   ]
  },
  {
   "cell_type": "code",
   "execution_count": 1682,
   "metadata": {},
   "outputs": [
    {
     "data": {
      "text/plain": [
       "array([  2.        ,   5.        ,   3.        ,   1.        ,\n",
       "         4.        , 133.        ,   3.07434695])"
      ]
     },
     "execution_count": 1682,
     "metadata": {},
     "output_type": "execute_result"
    }
   ],
   "source": [
    "dataset['Customer_rating'].unique()"
   ]
  },
  {
   "cell_type": "code",
   "execution_count": 1683,
   "metadata": {},
   "outputs": [],
   "source": [
    "check_and_fill(dataset, 'Customer_rating', (0, 5))"
   ]
  },
  {
   "cell_type": "code",
   "execution_count": 1684,
   "metadata": {},
   "outputs": [
    {
     "data": {
      "text/plain": [
       "array([2.        , 5.        , 3.        , 1.        , 4.        ,\n",
       "       3.07434695])"
      ]
     },
     "execution_count": 1684,
     "metadata": {},
     "output_type": "execute_result"
    }
   ],
   "source": [
    "dataset['Customer_rating'].unique()"
   ]
  },
  {
   "cell_type": "code",
   "execution_count": 1685,
   "metadata": {},
   "outputs": [],
   "source": [
    "dataset['Customer_care_calls'] = dataset['Customer_care_calls'].astype(int)"
   ]
  },
  {
   "cell_type": "code",
   "execution_count": 1686,
   "metadata": {},
   "outputs": [
    {
     "data": {
      "text/html": [
       "<div>\n",
       "<style scoped>\n",
       "    .dataframe tbody tr th:only-of-type {\n",
       "        vertical-align: middle;\n",
       "    }\n",
       "\n",
       "    .dataframe tbody tr th {\n",
       "        vertical-align: top;\n",
       "    }\n",
       "\n",
       "    .dataframe thead th {\n",
       "        text-align: right;\n",
       "    }\n",
       "</style>\n",
       "<table border=\"1\" class=\"dataframe\">\n",
       "  <thead>\n",
       "    <tr style=\"text-align: right;\">\n",
       "      <th></th>\n",
       "      <th>Customer_care_calls</th>\n",
       "      <th>Customer_rating</th>\n",
       "      <th>Product_Cost</th>\n",
       "      <th>Prior_purchases</th>\n",
       "      <th>Discount_offered</th>\n",
       "      <th>Weight_in_gms</th>\n",
       "      <th>Reached_On_Time</th>\n",
       "    </tr>\n",
       "  </thead>\n",
       "  <tbody>\n",
       "    <tr>\n",
       "      <th>count</th>\n",
       "      <td>1454.000000</td>\n",
       "      <td>1454.000000</td>\n",
       "      <td>1454.000000</td>\n",
       "      <td>1454.000000</td>\n",
       "      <td>1454.000000</td>\n",
       "      <td>1454.000000</td>\n",
       "      <td>1454.000000</td>\n",
       "    </tr>\n",
       "    <tr>\n",
       "      <th>mean</th>\n",
       "      <td>3.734525</td>\n",
       "      <td>2.984233</td>\n",
       "      <td>194.658671</td>\n",
       "      <td>3.276479</td>\n",
       "      <td>32.810179</td>\n",
       "      <td>2345.927785</td>\n",
       "      <td>0.998624</td>\n",
       "    </tr>\n",
       "    <tr>\n",
       "      <th>std</th>\n",
       "      <td>1.018591</td>\n",
       "      <td>1.403624</td>\n",
       "      <td>46.102333</td>\n",
       "      <td>1.426052</td>\n",
       "      <td>18.873462</td>\n",
       "      <td>949.341719</td>\n",
       "      <td>0.052450</td>\n",
       "    </tr>\n",
       "    <tr>\n",
       "      <th>min</th>\n",
       "      <td>2.000000</td>\n",
       "      <td>1.000000</td>\n",
       "      <td>3.000000</td>\n",
       "      <td>2.000000</td>\n",
       "      <td>1.000000</td>\n",
       "      <td>-1.000000</td>\n",
       "      <td>-1.000000</td>\n",
       "    </tr>\n",
       "    <tr>\n",
       "      <th>25%</th>\n",
       "      <td>3.000000</td>\n",
       "      <td>2.000000</td>\n",
       "      <td>157.000000</td>\n",
       "      <td>2.000000</td>\n",
       "      <td>16.000000</td>\n",
       "      <td>1550.000000</td>\n",
       "      <td>1.000000</td>\n",
       "    </tr>\n",
       "    <tr>\n",
       "      <th>50%</th>\n",
       "      <td>4.000000</td>\n",
       "      <td>3.000000</td>\n",
       "      <td>191.000000</td>\n",
       "      <td>3.000000</td>\n",
       "      <td>33.500000</td>\n",
       "      <td>2205.500000</td>\n",
       "      <td>1.000000</td>\n",
       "    </tr>\n",
       "    <tr>\n",
       "      <th>75%</th>\n",
       "      <td>4.000000</td>\n",
       "      <td>4.000000</td>\n",
       "      <td>234.000000</td>\n",
       "      <td>4.000000</td>\n",
       "      <td>49.000000</td>\n",
       "      <td>3067.000000</td>\n",
       "      <td>1.000000</td>\n",
       "    </tr>\n",
       "    <tr>\n",
       "      <th>max</th>\n",
       "      <td>7.000000</td>\n",
       "      <td>5.000000</td>\n",
       "      <td>294.000000</td>\n",
       "      <td>10.000000</td>\n",
       "      <td>65.000000</td>\n",
       "      <td>7846.000000</td>\n",
       "      <td>1.000000</td>\n",
       "    </tr>\n",
       "  </tbody>\n",
       "</table>\n",
       "</div>"
      ],
      "text/plain": [
       "       Customer_care_calls  Customer_rating  Product_Cost  Prior_purchases  \\\n",
       "count          1454.000000      1454.000000   1454.000000      1454.000000   \n",
       "mean              3.734525         2.984233    194.658671         3.276479   \n",
       "std               1.018591         1.403624     46.102333         1.426052   \n",
       "min               2.000000         1.000000      3.000000         2.000000   \n",
       "25%               3.000000         2.000000    157.000000         2.000000   \n",
       "50%               4.000000         3.000000    191.000000         3.000000   \n",
       "75%               4.000000         4.000000    234.000000         4.000000   \n",
       "max               7.000000         5.000000    294.000000        10.000000   \n",
       "\n",
       "       Discount_offered  Weight_in_gms  Reached_On_Time  \n",
       "count       1454.000000    1454.000000      1454.000000  \n",
       "mean          32.810179    2345.927785         0.998624  \n",
       "std           18.873462     949.341719         0.052450  \n",
       "min            1.000000      -1.000000        -1.000000  \n",
       "25%           16.000000    1550.000000         1.000000  \n",
       "50%           33.500000    2205.500000         1.000000  \n",
       "75%           49.000000    3067.000000         1.000000  \n",
       "max           65.000000    7846.000000         1.000000  "
      ]
     },
     "execution_count": 1686,
     "metadata": {},
     "output_type": "execute_result"
    }
   ],
   "source": [
    "dataset.describe()"
   ]
  },
  {
   "cell_type": "code",
   "execution_count": 1687,
   "metadata": {},
   "outputs": [
    {
     "data": {
      "text/html": [
       "<div>\n",
       "<style scoped>\n",
       "    .dataframe tbody tr th:only-of-type {\n",
       "        vertical-align: middle;\n",
       "    }\n",
       "\n",
       "    .dataframe tbody tr th {\n",
       "        vertical-align: top;\n",
       "    }\n",
       "\n",
       "    .dataframe thead th {\n",
       "        text-align: right;\n",
       "    }\n",
       "</style>\n",
       "<table border=\"1\" class=\"dataframe\">\n",
       "  <thead>\n",
       "    <tr style=\"text-align: right;\">\n",
       "      <th></th>\n",
       "      <th>Warehouse_block</th>\n",
       "      <th>Shipment</th>\n",
       "      <th>Customer_care_calls</th>\n",
       "      <th>Customer_rating</th>\n",
       "      <th>Product_Cost</th>\n",
       "      <th>Prior_purchases</th>\n",
       "      <th>Product_importance</th>\n",
       "      <th>Gender</th>\n",
       "      <th>Discount_offered</th>\n",
       "      <th>Weight_in_gms</th>\n",
       "      <th>Reached_On_Time</th>\n",
       "    </tr>\n",
       "  </thead>\n",
       "  <tbody>\n",
       "    <tr>\n",
       "      <th>0</th>\n",
       "      <td>D</td>\n",
       "      <td>Flight</td>\n",
       "      <td>4</td>\n",
       "      <td>2.0</td>\n",
       "      <td>177.0</td>\n",
       "      <td>3</td>\n",
       "      <td>low</td>\n",
       "      <td>F</td>\n",
       "      <td>44.0</td>\n",
       "      <td>1233.0</td>\n",
       "      <td>1</td>\n",
       "    </tr>\n",
       "    <tr>\n",
       "      <th>1</th>\n",
       "      <td>F</td>\n",
       "      <td>Flight</td>\n",
       "      <td>4</td>\n",
       "      <td>5.0</td>\n",
       "      <td>216.0</td>\n",
       "      <td>2</td>\n",
       "      <td>low</td>\n",
       "      <td>M</td>\n",
       "      <td>59.0</td>\n",
       "      <td>3088.0</td>\n",
       "      <td>1</td>\n",
       "    </tr>\n",
       "    <tr>\n",
       "      <th>2</th>\n",
       "      <td>A</td>\n",
       "      <td>Flight</td>\n",
       "      <td>2</td>\n",
       "      <td>2.0</td>\n",
       "      <td>183.0</td>\n",
       "      <td>4</td>\n",
       "      <td>low</td>\n",
       "      <td>M</td>\n",
       "      <td>48.0</td>\n",
       "      <td>3374.0</td>\n",
       "      <td>1</td>\n",
       "    </tr>\n",
       "    <tr>\n",
       "      <th>3</th>\n",
       "      <td>B</td>\n",
       "      <td>Flight</td>\n",
       "      <td>3</td>\n",
       "      <td>3.0</td>\n",
       "      <td>176.0</td>\n",
       "      <td>4</td>\n",
       "      <td>medium</td>\n",
       "      <td>M</td>\n",
       "      <td>10.0</td>\n",
       "      <td>1177.0</td>\n",
       "      <td>1</td>\n",
       "    </tr>\n",
       "    <tr>\n",
       "      <th>4</th>\n",
       "      <td>C</td>\n",
       "      <td>Flight</td>\n",
       "      <td>2</td>\n",
       "      <td>2.0</td>\n",
       "      <td>184.0</td>\n",
       "      <td>3</td>\n",
       "      <td>medium</td>\n",
       "      <td>F</td>\n",
       "      <td>46.0</td>\n",
       "      <td>2484.0</td>\n",
       "      <td>1</td>\n",
       "    </tr>\n",
       "    <tr>\n",
       "      <th>5</th>\n",
       "      <td>F</td>\n",
       "      <td>Flight</td>\n",
       "      <td>3</td>\n",
       "      <td>1.0</td>\n",
       "      <td>162.0</td>\n",
       "      <td>3</td>\n",
       "      <td>medium</td>\n",
       "      <td>F</td>\n",
       "      <td>12.0</td>\n",
       "      <td>1417.0</td>\n",
       "      <td>1</td>\n",
       "    </tr>\n",
       "    <tr>\n",
       "      <th>6</th>\n",
       "      <td>D</td>\n",
       "      <td>Flight</td>\n",
       "      <td>3</td>\n",
       "      <td>4.0</td>\n",
       "      <td>250.0</td>\n",
       "      <td>3</td>\n",
       "      <td>low</td>\n",
       "      <td>F</td>\n",
       "      <td>3.0</td>\n",
       "      <td>2371.0</td>\n",
       "      <td>1</td>\n",
       "    </tr>\n",
       "    <tr>\n",
       "      <th>7</th>\n",
       "      <td>F</td>\n",
       "      <td>Flight</td>\n",
       "      <td>4</td>\n",
       "      <td>1.0</td>\n",
       "      <td>233.0</td>\n",
       "      <td>2</td>\n",
       "      <td>low</td>\n",
       "      <td>F</td>\n",
       "      <td>48.0</td>\n",
       "      <td>2804.0</td>\n",
       "      <td>1</td>\n",
       "    </tr>\n",
       "    <tr>\n",
       "      <th>8</th>\n",
       "      <td>A</td>\n",
       "      <td>Flight</td>\n",
       "      <td>3</td>\n",
       "      <td>4.0</td>\n",
       "      <td>150.0</td>\n",
       "      <td>3</td>\n",
       "      <td>low</td>\n",
       "      <td>F</td>\n",
       "      <td>11.0</td>\n",
       "      <td>1861.0</td>\n",
       "      <td>1</td>\n",
       "    </tr>\n",
       "    <tr>\n",
       "      <th>9</th>\n",
       "      <td>B</td>\n",
       "      <td>Flight</td>\n",
       "      <td>3</td>\n",
       "      <td>2.0</td>\n",
       "      <td>164.0</td>\n",
       "      <td>3</td>\n",
       "      <td>medium</td>\n",
       "      <td>F</td>\n",
       "      <td>29.0</td>\n",
       "      <td>1187.0</td>\n",
       "      <td>1</td>\n",
       "    </tr>\n",
       "  </tbody>\n",
       "</table>\n",
       "</div>"
      ],
      "text/plain": [
       "  Warehouse_block Shipment  Customer_care_calls  Customer_rating  \\\n",
       "0               D   Flight                    4              2.0   \n",
       "1               F   Flight                    4              5.0   \n",
       "2               A   Flight                    2              2.0   \n",
       "3               B   Flight                    3              3.0   \n",
       "4               C   Flight                    2              2.0   \n",
       "5               F   Flight                    3              1.0   \n",
       "6               D   Flight                    3              4.0   \n",
       "7               F   Flight                    4              1.0   \n",
       "8               A   Flight                    3              4.0   \n",
       "9               B   Flight                    3              2.0   \n",
       "\n",
       "   Product_Cost  Prior_purchases Product_importance Gender  Discount_offered  \\\n",
       "0         177.0                3                low      F              44.0   \n",
       "1         216.0                2                low      M              59.0   \n",
       "2         183.0                4                low      M              48.0   \n",
       "3         176.0                4             medium      M              10.0   \n",
       "4         184.0                3             medium      F              46.0   \n",
       "5         162.0                3             medium      F              12.0   \n",
       "6         250.0                3                low      F               3.0   \n",
       "7         233.0                2                low      F              48.0   \n",
       "8         150.0                3                low      F              11.0   \n",
       "9         164.0                3             medium      F              29.0   \n",
       "\n",
       "   Weight_in_gms  Reached_On_Time  \n",
       "0         1233.0                1  \n",
       "1         3088.0                1  \n",
       "2         3374.0                1  \n",
       "3         1177.0                1  \n",
       "4         2484.0                1  \n",
       "5         1417.0                1  \n",
       "6         2371.0                1  \n",
       "7         2804.0                1  \n",
       "8         1861.0                1  \n",
       "9         1187.0                1  "
      ]
     },
     "execution_count": 1687,
     "metadata": {},
     "output_type": "execute_result"
    }
   ],
   "source": [
    "dataset.head(10)"
   ]
  }
 ],
 "metadata": {
  "kernelspec": {
   "display_name": "Python 3.9.7 64-bit",
   "language": "python",
   "name": "python3"
  },
  "language_info": {
   "codemirror_mode": {
    "name": "ipython",
    "version": 3
   },
   "file_extension": ".py",
   "mimetype": "text/x-python",
   "name": "python",
   "nbconvert_exporter": "python",
   "pygments_lexer": "ipython3",
   "version": "3.9.7"
  },
  "orig_nbformat": 4,
  "vscode": {
   "interpreter": {
    "hash": "81794d4967e6c3204c66dcd87b604927b115b27c00565d3d43f05ba2f3a2cb0d"
   }
  }
 },
 "nbformat": 4,
 "nbformat_minor": 2
}
