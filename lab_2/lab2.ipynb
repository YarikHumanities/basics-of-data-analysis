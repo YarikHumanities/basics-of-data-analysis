{
 "cells": [
  {
   "cell_type": "markdown",
   "metadata": {},
   "source": [
    "Lab 2\n",
    "\n",
    "Create Dataset"
   ]
  },
  {
   "cell_type": "code",
   "execution_count": 28,
   "metadata": {},
   "outputs": [],
   "source": [
    "import pandas as pd\n",
    "import numpy as np\n",
    "\n",
    "def getDataset(file_title):\n",
    "    data = pd.read_csv(file_title, sep=',', encoding='cp1252')\n",
    "    return data\n",
    "\n",
    "dataset = getDataset(\"frogs.csv\")\n",
    "\n"
   ]
  },
  {
   "cell_type": "markdown",
   "metadata": {},
   "source": [
    "Check info about dataset"
   ]
  },
  {
   "cell_type": "code",
   "execution_count": 29,
   "metadata": {},
   "outputs": [
    {
     "name": "stdout",
     "output_type": "stream",
     "text": [
      "<class 'pandas.core.frame.DataFrame'>\n",
      "RangeIndex: 212 entries, 0 to 211\n",
      "Data columns (total 11 columns):\n",
      " #   Column      Non-Null Count  Dtype  \n",
      "---  ------      --------------  -----  \n",
      " 0   Unnamed: 0  212 non-null    int64  \n",
      " 1   pres.abs    212 non-null    int64  \n",
      " 2   northing    212 non-null    int64  \n",
      " 3   easting     212 non-null    int64  \n",
      " 4   altitude    212 non-null    int64  \n",
      " 5   distance    212 non-null    int64  \n",
      " 6   NoOfPools   212 non-null    int64  \n",
      " 7   NoOfSites   212 non-null    int64  \n",
      " 8   avrain      212 non-null    float64\n",
      " 9   meanmin     212 non-null    float64\n",
      " 10  meanmax     212 non-null    float64\n",
      "dtypes: float64(3), int64(8)\n",
      "memory usage: 18.3 KB\n"
     ]
    },
    {
     "data": {
      "text/html": [
       "<div>\n",
       "<style scoped>\n",
       "    .dataframe tbody tr th:only-of-type {\n",
       "        vertical-align: middle;\n",
       "    }\n",
       "\n",
       "    .dataframe tbody tr th {\n",
       "        vertical-align: top;\n",
       "    }\n",
       "\n",
       "    .dataframe thead th {\n",
       "        text-align: right;\n",
       "    }\n",
       "</style>\n",
       "<table border=\"1\" class=\"dataframe\">\n",
       "  <thead>\n",
       "    <tr style=\"text-align: right;\">\n",
       "      <th></th>\n",
       "      <th>Unnamed: 0</th>\n",
       "      <th>pres.abs</th>\n",
       "      <th>northing</th>\n",
       "      <th>easting</th>\n",
       "      <th>altitude</th>\n",
       "      <th>distance</th>\n",
       "      <th>NoOfPools</th>\n",
       "      <th>NoOfSites</th>\n",
       "      <th>avrain</th>\n",
       "      <th>meanmin</th>\n",
       "      <th>meanmax</th>\n",
       "    </tr>\n",
       "  </thead>\n",
       "  <tbody>\n",
       "    <tr>\n",
       "      <th>0</th>\n",
       "      <td>2</td>\n",
       "      <td>1</td>\n",
       "      <td>115</td>\n",
       "      <td>1047</td>\n",
       "      <td>1500</td>\n",
       "      <td>500</td>\n",
       "      <td>232</td>\n",
       "      <td>3</td>\n",
       "      <td>155.000000</td>\n",
       "      <td>3.566667</td>\n",
       "      <td>14.000000</td>\n",
       "    </tr>\n",
       "    <tr>\n",
       "      <th>1</th>\n",
       "      <td>3</td>\n",
       "      <td>1</td>\n",
       "      <td>110</td>\n",
       "      <td>1042</td>\n",
       "      <td>1520</td>\n",
       "      <td>250</td>\n",
       "      <td>66</td>\n",
       "      <td>5</td>\n",
       "      <td>157.666667</td>\n",
       "      <td>3.466667</td>\n",
       "      <td>13.800000</td>\n",
       "    </tr>\n",
       "    <tr>\n",
       "      <th>2</th>\n",
       "      <td>4</td>\n",
       "      <td>1</td>\n",
       "      <td>112</td>\n",
       "      <td>1040</td>\n",
       "      <td>1540</td>\n",
       "      <td>250</td>\n",
       "      <td>32</td>\n",
       "      <td>5</td>\n",
       "      <td>159.666667</td>\n",
       "      <td>3.400000</td>\n",
       "      <td>13.600000</td>\n",
       "    </tr>\n",
       "    <tr>\n",
       "      <th>3</th>\n",
       "      <td>5</td>\n",
       "      <td>1</td>\n",
       "      <td>109</td>\n",
       "      <td>1033</td>\n",
       "      <td>1590</td>\n",
       "      <td>250</td>\n",
       "      <td>9</td>\n",
       "      <td>5</td>\n",
       "      <td>165.000000</td>\n",
       "      <td>3.200000</td>\n",
       "      <td>13.166667</td>\n",
       "    </tr>\n",
       "    <tr>\n",
       "      <th>4</th>\n",
       "      <td>6</td>\n",
       "      <td>1</td>\n",
       "      <td>109</td>\n",
       "      <td>1032</td>\n",
       "      <td>1590</td>\n",
       "      <td>250</td>\n",
       "      <td>67</td>\n",
       "      <td>5</td>\n",
       "      <td>165.000000</td>\n",
       "      <td>3.200000</td>\n",
       "      <td>13.166667</td>\n",
       "    </tr>\n",
       "    <tr>\n",
       "      <th>5</th>\n",
       "      <td>7</td>\n",
       "      <td>1</td>\n",
       "      <td>106</td>\n",
       "      <td>1018</td>\n",
       "      <td>1600</td>\n",
       "      <td>500</td>\n",
       "      <td>12</td>\n",
       "      <td>4</td>\n",
       "      <td>167.333333</td>\n",
       "      <td>3.133333</td>\n",
       "      <td>13.066667</td>\n",
       "    </tr>\n",
       "    <tr>\n",
       "      <th>6</th>\n",
       "      <td>8</td>\n",
       "      <td>1</td>\n",
       "      <td>105</td>\n",
       "      <td>1015</td>\n",
       "      <td>1600</td>\n",
       "      <td>250</td>\n",
       "      <td>30</td>\n",
       "      <td>3</td>\n",
       "      <td>167.333333</td>\n",
       "      <td>3.100000</td>\n",
       "      <td>13.066667</td>\n",
       "    </tr>\n",
       "    <tr>\n",
       "      <th>7</th>\n",
       "      <td>9</td>\n",
       "      <td>1</td>\n",
       "      <td>84</td>\n",
       "      <td>1014</td>\n",
       "      <td>1560</td>\n",
       "      <td>750</td>\n",
       "      <td>13</td>\n",
       "      <td>2</td>\n",
       "      <td>165.000000</td>\n",
       "      <td>3.300000</td>\n",
       "      <td>13.400000</td>\n",
       "    </tr>\n",
       "    <tr>\n",
       "      <th>8</th>\n",
       "      <td>10</td>\n",
       "      <td>1</td>\n",
       "      <td>88</td>\n",
       "      <td>1023</td>\n",
       "      <td>1560</td>\n",
       "      <td>250</td>\n",
       "      <td>4</td>\n",
       "      <td>3</td>\n",
       "      <td>164.000000</td>\n",
       "      <td>3.300000</td>\n",
       "      <td>13.433333</td>\n",
       "    </tr>\n",
       "    <tr>\n",
       "      <th>9</th>\n",
       "      <td>11</td>\n",
       "      <td>1</td>\n",
       "      <td>91</td>\n",
       "      <td>1025</td>\n",
       "      <td>1560</td>\n",
       "      <td>250</td>\n",
       "      <td>14</td>\n",
       "      <td>4</td>\n",
       "      <td>164.000000</td>\n",
       "      <td>3.300000</td>\n",
       "      <td>13.433333</td>\n",
       "    </tr>\n",
       "  </tbody>\n",
       "</table>\n",
       "</div>"
      ],
      "text/plain": [
       "   Unnamed: 0  pres.abs  northing  easting  altitude  distance  NoOfPools  \\\n",
       "0           2         1       115     1047      1500       500        232   \n",
       "1           3         1       110     1042      1520       250         66   \n",
       "2           4         1       112     1040      1540       250         32   \n",
       "3           5         1       109     1033      1590       250          9   \n",
       "4           6         1       109     1032      1590       250         67   \n",
       "5           7         1       106     1018      1600       500         12   \n",
       "6           8         1       105     1015      1600       250         30   \n",
       "7           9         1        84     1014      1560       750         13   \n",
       "8          10         1        88     1023      1560       250          4   \n",
       "9          11         1        91     1025      1560       250         14   \n",
       "\n",
       "   NoOfSites      avrain   meanmin    meanmax  \n",
       "0          3  155.000000  3.566667  14.000000  \n",
       "1          5  157.666667  3.466667  13.800000  \n",
       "2          5  159.666667  3.400000  13.600000  \n",
       "3          5  165.000000  3.200000  13.166667  \n",
       "4          5  165.000000  3.200000  13.166667  \n",
       "5          4  167.333333  3.133333  13.066667  \n",
       "6          3  167.333333  3.100000  13.066667  \n",
       "7          2  165.000000  3.300000  13.400000  \n",
       "8          3  164.000000  3.300000  13.433333  \n",
       "9          4  164.000000  3.300000  13.433333  "
      ]
     },
     "execution_count": 29,
     "metadata": {},
     "output_type": "execute_result"
    }
   ],
   "source": [
    "dataset.info()\n",
    "dataset.head(10)"
   ]
  },
  {
   "cell_type": "markdown",
   "metadata": {},
   "source": [
    "1. Average quantity of place suitable for reproduction"
   ]
  },
  {
   "cell_type": "code",
   "execution_count": 30,
   "metadata": {},
   "outputs": [
    {
     "name": "stdout",
     "output_type": "stream",
     "text": [
      "Average quantity of place suitable for reproduction:  2.938679245283019\n"
     ]
    }
   ],
   "source": [
    "print(\"Average quantity of place suitable for reproduction: \", np.mean(dataset['NoOfSites']))"
   ]
  },
  {
   "cell_type": "markdown",
   "metadata": {},
   "source": [
    "2. Check if Height has normal distribution"
   ]
  },
  {
   "cell_type": "code",
   "execution_count": 31,
   "metadata": {},
   "outputs": [
    {
     "name": "stdout",
     "output_type": "stream",
     "text": [
      "Statistics=14.915, p-value=0.001\n",
      "Declined\n"
     ]
    },
    {
     "data": {
      "image/png": "[encoded data removed]",
      "text/plain": [
       "<Figure size 432x288 with 1 Axes>"
      ]
     },
     "metadata": {
      "needs_background": "light"
     },
     "output_type": "display_data"
    }
   ],
   "source": [
    "import scipy.stats as stats\n",
    "import matplotlib.pyplot as plt\n",
    "\n",
    "stat, p = stats.normaltest(dataset['altitude']) # null hypothesis: x comes from a normal distribution\n",
    "\n",
    "print('Statistics=%.3f, p-value=%.3f' % (stat, p)) \n",
    "alpha = 0.05\n",
    "if p > alpha:\n",
    "    print('Accepted')\n",
    "else:\n",
    "    print('Declined')\n",
    "\n",
    "plt.plot(dataset['altitude'])\n",
    "plt.show()\n"
   ]
  },
  {
   "cell_type": "markdown",
   "metadata": {},
   "source": [
    "3. Check correlation of two fields"
   ]
  },
  {
   "cell_type": "code",
   "execution_count": 32,
   "metadata": {},
   "outputs": [
    {
     "name": "stdout",
     "output_type": "stream",
     "text": [
      "We can assert that there is a monotonic relation\n"
     ]
    }
   ],
   "source": [
    "if (stats.normaltest(dataset['NoOfSites'])[1]>0.05 and stats.normaltest(dataset['meanmax'])[1]>0.05):\n",
    "    print(\"Both fileds are normal\")\n",
    "    cor_stat, cor_p = stats.pearsonr(dataset['NoOfSites'], dataset['meanmax'])\n",
    "    if cor_p > alpha:\n",
    "        print(\"Correlation coef is 0 or it is very weak\")\n",
    "    else:\n",
    "        print(\"Correlation coef is not null\")\n",
    "\n",
    "cor_stat_spearman, cor_p_spearman = stats.spearmanr(dataset['NoOfSites'], dataset['meanmax'])\n",
    "if cor_p_spearman > alpha:\n",
    "    print(\"Monotonous relation is not observed or it is very weak\")\n",
    "else:\n",
    "    print(\"We can assert that there is a monotonic relation\")\n",
    "\n",
    "\n"
   ]
  },
  {
   "cell_type": "markdown",
   "metadata": {},
   "source": [
    "4. Build linear regression of two fields"
   ]
  },
  {
   "cell_type": "code",
   "execution_count": 33,
   "metadata": {},
   "outputs": [
    {
     "data": {
      "text/plain": [
       "LinregressResult(slope=1.2560693269472536, intercept=1515.5315419968529, rvalue=0.26679133897117296, pvalue=8.385712729155014e-05, stderr=0.3131111780768005, intercept_stderr=11.43145081657961)"
      ]
     },
     "execution_count": 33,
     "metadata": {},
     "output_type": "execute_result"
    }
   ],
   "source": [
    "stats.linregress(dataset['NoOfPools'], dataset['altitude'])\n",
    "# нахил, вільний член регресії, коеф кореляції пірсона, нахил = 0, середнє квадратичне відхилення середнього арифметичного нахилу та перетину"
   ]
  }
 ],
 "metadata": {
  "kernelspec": {
   "display_name": "Python 3.9.7 64-bit",
   "language": "python",
   "name": "python3"
  },
  "language_info": {
   "codemirror_mode": {
    "name": "ipython",
    "version": 3
   },
   "file_extension": ".py",
   "mimetype": "text/x-python",
   "name": "python",
   "nbconvert_exporter": "python",
   "pygments_lexer": "ipython3",
   "version": "3.9.7"
  },
  "orig_nbformat": 4,
  "vscode": {
   "interpreter": {
    "hash": "81794d4967e6c3204c66dcd87b604927b115b27c00565d3d43f05ba2f3a2cb0d"
   }
  }
 },
 "nbformat": 4,
 "nbformat_minor": 2
}
